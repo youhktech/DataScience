{
  "nbformat": 4,
  "nbformat_minor": 0,
  "metadata": {
    "colab": {
      "name": "Breast_Cancer_CrossValidation.ipynb",
      "provenance": []
    },
    "kernelspec": {
      "name": "python3",
      "display_name": "Python 3"
    }
  },
  "cells": [
    {
      "cell_type": "code",
      "metadata": {
        "id": "8VFUJYXCmRHs"
      },
      "source": [
        "# Validação cruzada (K-fold Cross Validation)\r\n",
        "# Sobre a base de dados breast cancer"
      ],
      "execution_count": null,
      "outputs": []
    },
    {
      "cell_type": "code",
      "metadata": {
        "id": "rj1Q-Izbr0oN"
      },
      "source": [
        "import pandas as pd\r\n",
        "from keras.models import Sequential\r\n",
        "from keras.layers import Dense, Dropout\r\n",
        "import keras"
      ],
      "execution_count": null,
      "outputs": []
    },
    {
      "cell_type": "code",
      "metadata": {
        "id": "bLbnZPuLmdwN"
      },
      "source": [
        "previsores = pd.read_csv('entradas_breast.csv')\r\n",
        "classe = pd.read_csv('saidas_breast.csv')"
      ],
      "execution_count": null,
      "outputs": []
    },
    {
      "cell_type": "code",
      "metadata": {
        "id": "6HdGw4gjmzJa"
      },
      "source": [
        "# biblioteca para fazer validação cruzada\r\n",
        "\r\n",
        "from keras.wrappers.scikit_learn import KerasClassifier\r\n",
        "from sklearn.model_selection import cross_val_score \r\n",
        "from sklearn.model_selection import GridSearchCV"
      ],
      "execution_count": null,
      "outputs": []
    },
    {
      "cell_type": "code",
      "metadata": {
        "id": "S9AKs-YdNWOr"
      },
      "source": [
        "def criarRede(optimizer, loos, kernel_initializer, activation, neurons):\r\n",
        "  classificador = Sequential()\r\n",
        "  classificador.add(Dense(units=16, activation='relu',kernel_initializer='random_uniform',input_dim=30))\r\n",
        "  #Dropout ajuda a prevenir o Overfiting\r\n",
        "  #Basicamente ele pega x% da camada de entrada e zera esse percentual de valores\r\n",
        "  classificador.add(Dropout(0.2))\r\n",
        "  #Segunda camada oculta\r\n",
        "  classificador.add(Dense(units=neurons, activation=activation,kernel_initializer=kernel_initializer))\r\n",
        "\r\n",
        "    #Basicamente ele pega x% da camada de entrada e zera esse percentual de valores\r\n",
        "  classificador.add(Dropout(0.2))\r\n",
        "  #Segunda camada oculta\r\n",
        "  classificador.add(Dense(units=neurons, activation=activation,kernel_initializer=kernel_initializer))\r\n",
        "\r\n",
        "    #Basicamente ele pega x% da camada de entrada e zera esse percentual de valores\r\n",
        "  classificador.add(Dropout(0.2))\r\n",
        "  #Segunda camada oculta\r\n",
        "  classificador.add(Dense(units=neurons, activation=activation,kernel_initializer=kernel_initializer))\r\n",
        "\r\n",
        "  #Basicamente ele pega x% da camada de entrada e zera esse percentual de valores\r\n",
        "  classificador.add(Dropout(0.2))\r\n",
        "  #Segunda camada oculta\r\n",
        "  classificador.add(Dense(units=neurons, activation=activation,kernel_initializer=kernel_initializer))\r\n",
        "\r\n",
        "  #Dropout para camada oculta\r\n",
        "  classificador.add(Dropout(0.2))\r\n",
        "  classificador.add(Dense(units=1,activation='sigmoid'))\r\n",
        "  #otimizador = keras.optimizers.Adam(lr=0.0015, decay=0.0001, clipvalue=0.5)\r\n",
        "  classificador.compile(optimizer=optimizer,loss=loos, metrics=['binary_accuracy'])\r\n",
        "  return classificador"
      ],
      "execution_count": null,
      "outputs": []
    },
    {
      "cell_type": "code",
      "metadata": {
        "id": "2yXzD59CObcz"
      },
      "source": [
        "classificador = KerasClassifier(build_fn=criarRede, epochs=100, batch_size=100)\r\n",
        "parametros = {'batch_size':[10,30],\r\n",
        "              'epochs':[50, 100],\r\n",
        "              'optimizer':['adam'],\r\n",
        "              'loos':['binary_crossentropy'],\r\n",
        "              'kernel_initializer':['random_uniform','normal'],\r\n",
        "              'activation':['relu','tanh'],\r\n",
        "              'neurons':[16,8]}"
      ],
      "execution_count": null,
      "outputs": []
    },
    {
      "cell_type": "code",
      "metadata": {
        "id": "gWPci0N8PT1Z"
      },
      "source": [
        "grid_search = GridSearchCV(estimator=classificador,\r\n",
        "                           param_grid=parametros,\r\n",
        "                           scoring = 'accuracy',\r\n",
        "                           cv = 5)\r\n",
        "grid_search = grid_search.fit(previsores, classe)\r\n",
        "melhores_parametros = grid_search.best_params_\r\n",
        "melhor_precisao = grid_search.best_score_"
      ],
      "execution_count": null,
      "outputs": []
    },
    {
      "cell_type": "code",
      "metadata": {
        "id": "IDQn0ZuJm-Io"
      },
      "source": [
        "def criarRede():\r\n",
        "  classificador = Sequential()\r\n",
        "  classificador.add(Dense(units=16, activation='relu',kernel_initializer='random_uniform',input_dim=30))\r\n",
        "  #Dropout ajuda a prevenir o Overfiting\r\n",
        "  #Basicamente ele pega x% da camada de entrada e zera esse percentual de valores\r\n",
        "  classificador.add(Dropout(0.2))\r\n",
        "  #Segunda camada oculta\r\n",
        "  classificador.add(Dense(units=8, activation='relu',kernel_initializer='random_uniform'))\r\n",
        "\r\n",
        "    #Basicamente ele pega x% da camada de entrada e zera esse percentual de valores\r\n",
        "  classificador.add(Dropout(0.2))\r\n",
        "  #Segunda camada oculta\r\n",
        "  classificador.add(Dense(units=16, activation='relu',kernel_initializer='random_uniform'))\r\n",
        "\r\n",
        "    #Basicamente ele pega x% da camada de entrada e zera esse percentual de valores\r\n",
        "  classificador.add(Dropout(0.2))\r\n",
        "  #Segunda camada oculta\r\n",
        "  classificador.add(Dense(units=32, activation='relu',kernel_initializer='random_uniform'))\r\n",
        "\r\n",
        "  #Basicamente ele pega x% da camada de entrada e zera esse percentual de valores\r\n",
        "  classificador.add(Dropout(0.2))\r\n",
        "  #Segunda camada oculta\r\n",
        "  classificador.add(Dense(units=16, activation='relu',kernel_initializer='random_uniform'))\r\n",
        "\r\n",
        "  #Dropout para camada oculta\r\n",
        "  classificador.add(Dropout(0.2))\r\n",
        "  classificador.add(Dense(units=1,activation='sigmoid'))\r\n",
        "  otimizador = keras.optimizers.Adam(lr=0.0015, decay=0.0001, clipvalue=0.5)\r\n",
        "  classificador.compile(optimizer=otimizador,loss='binary_crossentropy', metrics=['binary_accuracy'])\r\n",
        "  return classificador"
      ],
      "execution_count": null,
      "outputs": []
    },
    {
      "cell_type": "code",
      "metadata": {
        "id": "Z1Y0kXXJofOw"
      },
      "source": [
        "classificador = KerasClassifier(build_fn=criarRede, epochs=100, batch_size=100)"
      ],
      "execution_count": null,
      "outputs": []
    },
    {
      "cell_type": "code",
      "metadata": {
        "id": "gbO1PwcVoqHj"
      },
      "source": [
        "resultados = cross_val_score(estimator= classificador,X = previsores, y = classe, cv =10, scoring='accuracy')"
      ],
      "execution_count": null,
      "outputs": []
    },
    {
      "cell_type": "code",
      "metadata": {
        "colab": {
          "base_uri": "https://localhost:8080/"
        },
        "id": "eK7Srz8jq6Ri",
        "outputId": "f16b342e-fab0-4f43-db51-41ac29e47d46"
      },
      "source": [
        "resultados"
      ],
      "execution_count": null,
      "outputs": [
        {
          "output_type": "execute_result",
          "data": {
            "text/plain": [
              "array([0.85964912, 0.9122807 , 0.94736842, 0.80701754, 0.84210526,\n",
              "       0.94736842, 0.92982456, 0.96491228, 0.87719298, 0.875     ])"
            ]
          },
          "metadata": {
            "tags": []
          },
          "execution_count": 106
        }
      ]
    },
    {
      "cell_type": "code",
      "metadata": {
        "id": "b7O6fK98rVDY"
      },
      "source": [
        "media = resultados.mean()"
      ],
      "execution_count": null,
      "outputs": []
    },
    {
      "cell_type": "code",
      "metadata": {
        "colab": {
          "base_uri": "https://localhost:8080/"
        },
        "id": "HaWgaNzbrXbL",
        "outputId": "bb543d05-f3b0-4f34-bbf2-98e3662a5bf7"
      },
      "source": [
        "media"
      ],
      "execution_count": null,
      "outputs": [
        {
          "output_type": "execute_result",
          "data": {
            "text/plain": [
              "0.8962719298245613"
            ]
          },
          "metadata": {
            "tags": []
          },
          "execution_count": 108
        }
      ]
    },
    {
      "cell_type": "code",
      "metadata": {
        "colab": {
          "base_uri": "https://localhost:8080/"
        },
        "id": "1YLZ7fk8rhUk",
        "outputId": "df4fa005-be65-4f9e-be03-05975612c42e"
      },
      "source": [
        "desvio = resultados.std()\r\n",
        "desvio"
      ],
      "execution_count": null,
      "outputs": [
        {
          "output_type": "execute_result",
          "data": {
            "text/plain": [
              "0.05789182940599577"
            ]
          },
          "metadata": {
            "tags": []
          },
          "execution_count": 22
        }
      ]
    },
    {
      "cell_type": "code",
      "metadata": {
        "id": "VOFR-h4WrnEa"
      },
      "source": [
        "# Quanto maior o desvio padrão e com uma acurácia alta mais overfitting terá nossa base"
      ],
      "execution_count": null,
      "outputs": []
    },
    {
      "cell_type": "code",
      "metadata": {
        "id": "2b-C-wYKrwUY"
      },
      "source": [
        ""
      ],
      "execution_count": null,
      "outputs": []
    }
  ]
}